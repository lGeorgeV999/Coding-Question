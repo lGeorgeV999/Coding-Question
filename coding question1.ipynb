{
 "cells": [
  {
   "cell_type": "markdown",
   "id": "388c848b",
   "metadata": {},
   "source": [
    "Given an integer array nums, move all 0's to the end of it while maintaining the relative order of the non-zero elements.\n",
    "\n",
    "Note that you must do this in-place without making a copy of the array.\n",
    "\n",
    "Example 1:\n",
    "Input: nums = [0,1,0,3,12]\n",
    "Output: [1,3,12,0,0]"
   ]
  },
  {
   "cell_type": "code",
   "execution_count": 6,
   "id": "c7ff5fee",
   "metadata": {},
   "outputs": [],
   "source": [
    "def moveZero(nums):\n",
    "    \"\"\"\n",
    "    Moves all zeros to the end of the array in-place.\n",
    "    \"\"\"\n",
    "    n = len(nums)\n",
    "    if n <= 1:\n",
    "        return\n",
    "\n",
    "    # Initialize two pointers: one for iterating the array and another for placing non-zero elements\n",
    "    i = 0  # Pointer for iterating\n",
    "    j = 0  # Pointer for placing non-zero elements\n",
    "\n",
    "    # Iterate through the array\n",
    "    while i < n:\n",
    "        # If the current element is non-zero, place it at the j-th position\n",
    "        if nums[i] != 0:\n",
    "            nums[j] = nums[i]\n",
    "            j += 1\n",
    "        i += 1\n",
    "\n",
    "    # Fill the remaining positions from j to the end of the array with zeros\n",
    "    while j < n:\n",
    "        nums[j] = 0\n",
    "        j += 1"
   ]
  },
  {
   "cell_type": "code",
   "execution_count": 7,
   "id": "3dc841f6",
   "metadata": {},
   "outputs": [
    {
     "name": "stdout",
     "output_type": "stream",
     "text": [
      "[1, 3, 12, 0, 0]\n",
      "[0]\n"
     ]
    }
   ],
   "source": [
    "# Test cases\n",
    "nums1 = [0, 1, 0, 3, 12]\n",
    "moveZero(nums1)\n",
    "print(nums1)  # Output: [1, 3, 12, 0, 0]\n",
    "\n",
    "nums2 = [0]\n",
    "moveZero(nums2)\n",
    "print(nums2)  # Output: [0]\n"
   ]
  },
  {
   "cell_type": "markdown",
   "id": "bbcf0683",
   "metadata": {},
   "source": [
    "First Unique Character in a String\n",
    "\n",
    "Given a string s, find the first non-repeating character in it and return its index. If it does not exist, return -1.\n",
    "\n",
    "Example 1:\n",
    "Input: s = \"leetcode\"\n",
    "Output: 0\n",
    "\n",
    "Example 2:\n",
    "Input: s = \"loveleetcode\"\n",
    "Output: 2\n",
    "\n",
    "Example 3:\n",
    "Input: s = \"aabb\"\n",
    "Output: -1\n",
    "\n",
    "Constraints:\n",
    "a. 1 <= s.length <= 10^5\n",
    "b. s consists of only lowercase English letters."
   ]
  },
  {
   "cell_type": "code",
   "execution_count": 10,
   "id": "865aaeeb",
   "metadata": {},
   "outputs": [],
   "source": [
    "def firstUniqChar(s):\n",
    "    char_count = {}\n",
    "    # Count the Similar words of each character\n",
    "    for char in s:\n",
    "        char_count[char] = char_count.get(char, 0) + 1\n",
    "    # Find the first character with count 1\n",
    "    for i in range(len(s)):\n",
    "        if char_count[s[i]] == 1:\n",
    "            return i\n",
    "\n",
    "    return -1"
   ]
  },
  {
   "cell_type": "code",
   "execution_count": 11,
   "id": "67776e37",
   "metadata": {},
   "outputs": [
    {
     "name": "stdout",
     "output_type": "stream",
     "text": [
      "0\n",
      "2\n",
      "-1\n"
     ]
    }
   ],
   "source": [
    "# Test cases\n",
    "s1 = \"leetcode\"\n",
    "print(firstUniqChar(s1))  \n",
    "\n",
    "s2 = \"loveleetcode\"\n",
    "print(firstUniqChar(s2))\n",
    "\n",
    "s3 = \"aabb\"\n",
    "print(firstUniqChar(s3))"
   ]
  },
  {
   "cell_type": "code",
   "execution_count": null,
   "id": "5d89639c",
   "metadata": {},
   "outputs": [],
   "source": []
  }
 ],
 "metadata": {
  "kernelspec": {
   "display_name": "Python 3 (ipykernel)",
   "language": "python",
   "name": "python3"
  },
  "language_info": {
   "codemirror_mode": {
    "name": "ipython",
    "version": 3
   },
   "file_extension": ".py",
   "mimetype": "text/x-python",
   "name": "python",
   "nbconvert_exporter": "python",
   "pygments_lexer": "ipython3",
   "version": "3.9.12"
  }
 },
 "nbformat": 4,
 "nbformat_minor": 5
}
